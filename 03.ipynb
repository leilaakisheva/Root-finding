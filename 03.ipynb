{
  "nbformat": 4,
  "nbformat_minor": 0,
  "metadata": {
    "colab": {
      "provenance": []
    },
    "kernelspec": {
      "name": "python3",
      "display_name": "Python 3"
    },
    "language_info": {
      "name": "python"
    }
  },
  "cells": [
    {
      "cell_type": "markdown",
      "source": [
        "# **Assignment 3**\n",
        "### **Abstract**\n",
        "In this study I investigate Bisection method for the formula of spherically symmetric flow of an ideal gas onto black hole. Given some radius $r$, I computed values of Mach number $M$. Also, it was defined how number of iterations and error are related using the plot."
      ],
      "metadata": {
        "id": "jp7uez27aF0t"
      }
    },
    {
      "cell_type": "markdown",
      "source": [
        "### **Introduction**\n",
        "The estimated roots of equations can be discovered using computational approaches by building recursively convergent sequences. Methods examined in the study include bisection method. It is one of the most relible technique because it cannot diverge. However, it gives only 1 solution in the given guessing interval."
      ],
      "metadata": {
        "id": "uO6A8OK9bJA0"
      }
    },
    {
      "cell_type": "markdown",
      "source": [
        "### **Method**\n",
        "First I import all the necessary libraries and define function **mach(M,r)**. Then, I define the function **bsec** which is used as the method of computing the solution. Variables of the function bsec are x1 - lower boundary, x2 - upper boundary, r - radius, p - error, imax - maximum number of iterations."
      ],
      "metadata": {
        "id": "xizk9TF-b1QY"
      }
    },
    {
      "cell_type": "code",
      "execution_count": null,
      "metadata": {
        "id": "5rB-P3J9cP_i"
      },
      "outputs": [],
      "source": [
        "import matplotlib.pyplot as plt\n",
        "import numpy as np\n",
        "%matplotlib inline"
      ]
    },
    {
      "cell_type": "code",
      "source": [
        "#function mach represents the formula of spherically symmetric flow of an ideal gas onto black hole\n",
        "def mach(M,r):\n",
        "  return 2*np.power(r,4)*np.power(M,2)*np.power(((2+6*r)/(r*(M**2+6))),7)-1"
      ],
      "metadata": {
        "id": "1e5h69kDdHUK"
      },
      "execution_count": null,
      "outputs": []
    },
    {
      "cell_type": "code",
      "source": [
        "#defining a function for bisecting method\n",
        "def bsec(x1, x2, r, p, imax):\n",
        "  x_r=x2\n",
        "  x=np.zeros(imax); e=np.zeros(imax); it=np.zeros(imax)\n",
        "  for i in range(imax):\n",
        "    x_rold=x_r\n",
        "    x_r=(x1+x2)/2\n",
        "    if (x_r!=0.0):\n",
        "      ea=abs((x_r-x_rold)/x_r)*100\n",
        "    it[i]=i; x[i]=x_r; e[i]=ea\n",
        "    test=mach(x1, r)*mach(x_r, r)\n",
        "    if (test<0.0):\n",
        "      x2=x_r\n",
        "    elif (test>0.0):\n",
        "      x1=x_r\n",
        "    else:\n",
        "      ea=0.0\n",
        "    if (ea<p):\n",
        "      break\n",
        "  return it,x_r, e"
      ],
      "metadata": {
        "id": "HfAedT_NlN2i"
      },
      "execution_count": null,
      "outputs": []
    },
    {
      "cell_type": "markdown",
      "source": [
        "### **Part A**\n",
        "I used values of mach(M,r) function near 0 to estimate value of variable M there. So, it could be seen in what range it lays and could be possible to choose first guess of boundary values."
      ],
      "metadata": {
        "id": "QIR4sjeWgldR"
      }
    },
    {
      "cell_type": "code",
      "source": [
        "M=np.arange(0, 7, 0.001) #arranging values for M\n",
        "y=np.zeros(7000)\n",
        "for i in range(7000):\n",
        "  y[i]=mach(M[i], 0.025) #filling array with the values from mach function\n",
        "  if mach(M[i],0.025)<0.0 and mach(M[i], 0.025)>-1e-2:\n",
        "#checking if the function is near 0.\n",
        "#If it is, then values of M there should be close to the actual value of M\n",
        "#it was done in order to find a lower boundary guess and an upper boundary guess\n",
        "    print('Value of Mach number =', round(M[i], 4), 'at y =', mach(M[i], 0.025))\n",
        "plt.plot(M,y)\n",
        "plt.grid()"
      ],
      "metadata": {
        "colab": {
          "base_uri": "https://localhost:8080/",
          "height": 352
        },
        "id": "E0_fjN7Jdyb0",
        "outputId": "54243732-6033-4557-852e-fe2bde707550"
      },
      "execution_count": null,
      "outputs": [
        {
          "output_type": "stream",
          "name": "stdout",
          "text": [
            "Value of Mach number = 0.102 at y = -0.0019463699774129317\n",
            "Value of Mach number = 3.169 at y = -0.0018225091595096554\n",
            "Value of Mach number = 3.17 at y = -0.003950741360807752\n",
            "Value of Mach number = 3.171 at y = -0.006074414997626065\n",
            "Value of Mach number = 3.172 at y = -0.008193539584907539\n"
          ]
        },
        {
          "output_type": "display_data",
          "data": {
            "text/plain": [
              "<Figure size 432x288 with 1 Axes>"
            ],
            "image/png": "[encoded data removed]"
          },
          "metadata": {
            "needs_background": "light"
          }
        }
      ]
    },
    {
      "cell_type": "code",
      "source": [
        "#checking computed value of M (the actual value)\n",
        "#as it could be seen that its value lays between 3 and 3.5\n",
        "i, M, e = bsec(3, 3.5, 0.025, 1e-12,50)\n",
        "print(M)"
      ],
      "metadata": {
        "colab": {
          "base_uri": "https://localhost:8080/"
        },
        "id": "3zewLyXplH36",
        "outputId": "b3645ca6-ba46-4f29-8eee-da910159dfe2"
      },
      "execution_count": null,
      "outputs": [
        {
          "output_type": "stream",
          "name": "stdout",
          "text": [
            "3.1681453521163974\n"
          ]
        }
      ]
    },
    {
      "cell_type": "markdown",
      "source": [
        "**Plot 1**"
      ],
      "metadata": {
        "id": "6ntePsGQf5LX"
      }
    },
    {
      "cell_type": "code",
      "source": [
        "plt.plot(i,e)\n",
        "plt.xlabel(\"Iteration number\")\n",
        "plt.ylabel(\"Error\")\n",
        "plt.yscale(\"log\")\n",
        "plt.grid()"
      ],
      "metadata": {
        "colab": {
          "base_uri": "https://localhost:8080/",
          "height": 279
        },
        "id": "9sl_rzt6xUcu",
        "outputId": "fbcb0826-07ac-4a59-c5ea-2a4bbf2220c8"
      },
      "execution_count": null,
      "outputs": [
        {
          "output_type": "display_data",
          "data": {
            "text/plain": [
              "<Figure size 432x288 with 1 Axes>"
            ],
            "image/png": "[encoded data removed]"
          },
          "metadata": {
            "needs_background": "light"
          }
        }
      ]
    },
    {
      "cell_type": "markdown",
      "source": [
        "### **Part B**"
      ],
      "metadata": {
        "id": "AHkZZsJ5gtCo"
      }
    },
    {
      "cell_type": "code",
      "source": [
        "r=np.linspace(0.025, 0.5, 20) #making a uniformly distributed array of numbers between 0.025 and 0.5\n",
        "M=np.linspace(0, 5, 20)\n",
        "y=np.zeros(20)\n",
        "for i in range(20):\n",
        "  if r[i]<0.25: #supersonic values\n",
        "    if mach(M[i],r[i])>=-1 and mach(M[i],r[i])<=1:\n",
        "      n, m, e = bsec(1, 5, r[i], 1e-12,500) #bisecting between 1 and 5, because supersonic values are >1\n",
        "      y[i]=m\n",
        "    print(i+1,') M = ', round(m, 4), ', for r =', round(r[i],3))\n",
        "  elif (r[i]>0.25): #subsonic values\n",
        "    if mach(M[i],r[i])>=-1 and mach(M[i],r[i])<=1:\n",
        "      n, m, e = bsec(0, 1, r[i], 1e-12,500) #bisecting between 0 and 1, because subsonic values are <1\n",
        "      y[i]=m\n",
        "    print(i+1,') M =', round(m, 4), ', for r =', round(r[i],3))\n",
        "  elif(r[i]==0.25): #should be approximately 1\n",
        "    n, m, e = bsec(0, 1, r[i], 1e-12,500)\n",
        "    y[i]=m\n",
        "    print(i+1,') M =', round(m, 4), ', for r =', round(r[i],3))"
      ],
      "metadata": {
        "colab": {
          "base_uri": "https://localhost:8080/"
        },
        "id": "i1G8nXFHxgA1",
        "outputId": "4313b391-1414-4ae5-bf2f-48969bc67738"
      },
      "execution_count": null,
      "outputs": [
        {
          "output_type": "stream",
          "name": "stdout",
          "text": [
            "1 ) M =  3.1681 , for r = 0.025\n",
            "2 ) M =  2.4043 , for r = 0.05\n",
            "3 ) M =  2.0026 , for r = 0.075\n",
            "4 ) M =  1.7369 , for r = 0.1\n",
            "5 ) M =  1.5418 , for r = 0.125\n",
            "6 ) M =  1.3897 , for r = 0.15\n",
            "7 ) M =  1.2663 , for r = 0.175\n",
            "8 ) M =  1.1634 , for r = 0.2\n",
            "9 ) M =  1.0758 , for r = 0.225\n",
            "10 ) M =  1.0 , for r = 0.25\n",
            "11 ) M = 0.9337 , for r = 0.275\n",
            "12 ) M = 0.8749 , for r = 0.3\n",
            "13 ) M = 0.8225 , for r = 0.325\n",
            "14 ) M = 0.7754 , for r = 0.35\n",
            "15 ) M = 0.7328 , for r = 0.375\n",
            "16 ) M = 0.6941 , for r = 0.4\n",
            "17 ) M = 0.6587 , for r = 0.425\n",
            "18 ) M = 0.6262 , for r = 0.45\n",
            "19 ) M = 0.5963 , for r = 0.475\n",
            "20 ) M = 0.5687 , for r = 0.5\n"
          ]
        }
      ]
    },
    {
      "cell_type": "markdown",
      "source": [
        "**Plot 2**"
      ],
      "metadata": {
        "id": "olm5dTWOf_Mh"
      }
    },
    {
      "cell_type": "code",
      "source": [
        "plt.plot(r,y)\n",
        "plt.xlabel(\"Radius (r)\")\n",
        "plt.ylabel(\"Mach value (M)\")"
      ],
      "metadata": {
        "colab": {
          "base_uri": "https://localhost:8080/",
          "height": 296
        },
        "id": "Siha1XaOgFZ-",
        "outputId": "5f19c7eb-f9e7-41cb-b240-8819dc85c711"
      },
      "execution_count": null,
      "outputs": [
        {
          "output_type": "execute_result",
          "data": {
            "text/plain": [
              "Text(0, 0.5, 'Mach value (M)')"
            ]
          },
          "metadata": {},
          "execution_count": 10
        },
        {
          "output_type": "display_data",
          "data": {
            "text/plain": [
              "<Figure size 432x288 with 1 Axes>"
            ],
            "image/png": "[encoded data removed]"
          },
          "metadata": {
            "needs_background": "light"
          }
        }
      ]
    },
    {
      "cell_type": "markdown",
      "source": [
        "### **Results**\n",
        "From the plot 1 it can be seen that the number of iterations and error related logarithmically . The graph is in log scale, so there is a logarithmic decay of error as the number of iterations grows. Also, from the plot 2 it is possible to conclude that Mach Number and radius are also logarithmically dependent.\n",
        "From the results of Part A, it can be seen that approximating values from the plot, where the function is near 0 is also a nice method for guessing the boundary conditions. From the Part B it can be seen that bisection method is actually a great techinque of finding a solution to the equation, since all of the values of M match the actual values to a very high extent."
      ],
      "metadata": {
        "id": "09ME1c9FfJVw"
      }
    },
    {
      "cell_type": "markdown",
      "source": [
        "### **Conclusion**\n",
        "In this paper, I analyzed the bisection approach for the spherically symmetric flow of an ideal gas onto black holes. I calculated the Mach numbers $M$ for various radiuses $r$. The graphics also demonstrated the relationship between the number of iterations and the error value.\n",
        "Overall, the assesment was succesfull and the method is proved to be reliable."
      ],
      "metadata": {
        "id": "ZAlnbUGrhNtJ"
      }
    }
  ]
}